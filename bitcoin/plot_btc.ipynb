{
 "cells": [
  {
   "cell_type": "code",
   "execution_count": null,
   "metadata": {},
   "outputs": [],
   "source": [
    "import matplotlib.pyplot as plt\n",
    "import csv\n",
    "\n",
    "args.file = \"./coincheck.csv\"\n",
    "\n",
    "x=list()\n",
    "y=list()\n",
    "\n",
    "# read csv file\n",
    "with open(args.file,\"r\") as file:\n",
    "    reader = csv.reader(file)\n",
    "    header = next(reader)\n",
    "    for row in reader:\n",
    "        x.append(row[0])\n",
    "        y.append(row[1])\n",
    "\n",
    "print x\n",
    "print y\n",
    "\n",
    "# plot \n",
    "plt.plot(x,y,\"r-\")\n",
    "plt.show()"
   ]
  },
  {
   "cell_type": "code",
   "execution_count": null,
   "metadata": {},
   "outputs": [],
   "source": []
  }
 ],
 "metadata": {
  "kernelspec": {
   "display_name": "Python 2",
   "language": "python",
   "name": "python2"
  },
  "language_info": {
   "codemirror_mode": {
    "name": "ipython",
    "version": 2
   },
   "file_extension": ".py",
   "mimetype": "text/x-python",
   "name": "python",
   "nbconvert_exporter": "python",
   "pygments_lexer": "ipython2",
   "version": "2.7.16"
  }
 },
 "nbformat": 4,
 "nbformat_minor": 2
}
